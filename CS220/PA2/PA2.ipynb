{
 "cells": [
  {
   "cell_type": "code",
   "execution_count": 19,
   "metadata": {},
   "outputs": [
    {
     "name": "stdout",
     "output_type": "stream",
     "text": [
      "program: E:\\Program Files (x86)\\Anaconda3\\lib\\site-packages\\ipykernel_launcher.py -f C:\\Users\\Sharon\\AppData\\Roaming\\jupyter\\runtime\\kernel-f7301052-117d-4093-b115-7ec2f1d802b2.json\n",
      "   n: 2 k: 11 e: 1\n",
      "   n: 4 k: 5 e: 2\n",
      "   n: 16 k: 2 e: 8\n",
      "   n: 256 k: 1 e: 8\n",
      "k: 0 e: 2048\n",
      "2 ** 11 = 2048\n"
     ]
    }
   ],
   "source": [
    "import sys\n",
    "\n",
    "def eExp(left, right):\n",
    "# precondition: left>0 AND right>0\n",
    "  if left <= 0 or right <= 0 : raise \"eExp: invalid inputs!\"\n",
    "  n=left; k=right; e=1  #e: the exponent\n",
    "  assert left >= 0 and right >= 0 # fill in the proper loop invariant\n",
    "  while (k != 0) : # the loop test\n",
    "    assert n ** k * e == left ** right # fill in the proper loop test and loop invariant\n",
    "    print(\"   n:\",n,\"k:\",k,\"e:\",e)\n",
    "    # body\n",
    "    if k % 2 != 0:\n",
    "        e = n * e\n",
    "    k = k // 2\n",
    "    n = n * n\n",
    "    assert k == 0 or n ** k * e == left ** right # fill in the proper loop invariant\n",
    "    \n",
    "  print(\"k:\",k,\"e:\",e)\n",
    "  assert (n * e) >= 0 # fill in proper not(loop test) and loop invariant\n",
    "  return e\n",
    "\n",
    "if __name__ == \"__main__\":\n",
    "  print(\"program:\", sys.argv[0], sys.argv[1], sys.argv[2])\n",
    "  n = 2  \n",
    "  k = 11\n",
    "  e = eExp(n,k)\n",
    "  print(n,\"**\",k,\"=\",e)\n",
    "   "
   ]
  }
 ],
 "metadata": {
  "kernelspec": {
   "display_name": "Python 3",
   "language": "python",
   "name": "python3"
  },
  "language_info": {
   "codemirror_mode": {
    "name": "ipython",
    "version": 3
   },
   "file_extension": ".py",
   "mimetype": "text/x-python",
   "name": "python",
   "nbconvert_exporter": "python",
   "pygments_lexer": "ipython3",
   "version": "3.6.4"
  }
 },
 "nbformat": 4,
 "nbformat_minor": 2
}
